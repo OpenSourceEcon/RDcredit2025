{
 "cells": [
  {
   "cell_type": "markdown",
   "metadata": {
    "id": "EIBsVBIXc7Q8"
   },
   "source": [
    "# Notebook for analyzing the R&D credit reform\n",
    "This notebook analyzes the return to full R&D expensing deductibility in Section 174."
   ]
  },
  {
   "cell_type": "markdown",
   "metadata": {},
   "source": [
    "## 1. Introduction\n",
    "Before opening and running this notebook, make sure that you have downloaded or cloned the [`RDcredit2025`](https://github.com/OpenSourceEcon/RDcredit2025) repository (https://github.com/OpenSourceEcon/RDcredit2025) and created and activated the associated conda environment `rdcredit-dev` in the `environment.yml` file."
   ]
  },
  {
   "cell_type": "code",
   "execution_count": 12,
   "metadata": {},
   "outputs": [],
   "source": [
    "# import packages\n",
    "import pandas as pd\n",
    "import numpy as np\n",
    "import os\n",
    "import pickle\n",
    "import requests\n",
    "import random\n",
    "import json\n",
    "import ccc\n",
    "import taxcalc as tc\n",
    "import matplotlib.pyplot as plt\n",
    "\n",
    "import plotly.express as px"
   ]
  },
  {
   "cell_type": "code",
   "execution_count": 13,
   "metadata": {},
   "outputs": [
    {
     "name": "stdout",
     "output_type": "stream",
     "text": [
      "/Users/richardevans/Docs/Economics/OSE/Federal/RDcredit2025/code\n"
     ]
    }
   ],
   "source": [
    "cur_dir = os.getcwd()\n",
    "data_dir = os.path.join(cur_dir, 'data')\n",
    "image_dir = os.path.join(cur_dir, 'tables_figures')\n",
    "og_bas_dir = os.path.join(cur_dir, 'RDcreditOutput', 'OUTPUT_BASELINE')\n",
    "og_ref_retro_dir = os.path.join(\n",
    "    cur_dir, 'RDcreditOutput', 'OUTPUT_REFORM_RETRO'\n",
    ")\n",
    "og_ref_noretro_dir = os.path.join(\n",
    "    cur_dir, 'RDcreditOutput', 'OUTPUT_REFORM_NORETRO'\n",
    ")\n",
    "print(cur_dir)"
   ]
  },
  {
   "attachments": {},
   "cell_type": "markdown",
   "metadata": {},
   "source": [
    "## 1. Full R&D expensing deductibility\n",
    "\n",
    "The Cost-of-Capital-Calculator model is an open source microsimulation model of business investment incentives. The documentation for the Cost-of-Calculator model is at https://ccc.pslmodels.org and the source code for the model is in the GitHub repository https://github.com/PSLmodels/Cost-of-Capital-Calculator.\n",
    "\n",
    "### Investment Incentives using Cost of Capital Calculator\n",
    "Computing the cost-of-capital at the federal level:\n",
    "\n",
    "Equation for the cost of capital.\n",
    "$$\n",
    "\\rho = \\left[\\frac{(r-\\pi+\\delta)(1-k-u^fz^f-u^sz^s + u^fu^sz^s)}{(1-u^f-u^s+u^fu^s)} + w \\right] / (1-\\tau^{GR}) - \\delta\n",
    "$$\n",
    "where:\n",
    "* $\\rho$ = cost of capital\n",
    "* $r$ = nominal discount rate\n",
    "* $\\pi$ = inflation rate\n",
    "* $k$ = investment tax credit rate\n",
    "* $u^f$ = statutory CIT rate at the federal level \n",
    "* $u^s$ = statutory CIT rate at the state level \n",
    "* $z^f$ = NPV of depreciation deduction under federal system\n",
    "* $z^s$ = NPV of depreciation deduction under state system\n",
    "* $w$ = property tax rate\n",
    "* $\\tau^{GR}$ = gross receipts tax rate\n",
    "\n",
    "Calibration:\n",
    "\n",
    "| Parameter     | Value | Source |\n",
    "| ----------- | ----------- |----------- |\n",
    "| $r$     | 0.06      | To give real return of 4\\%|\n",
    "| $\\pi$  | 0.02      | Fed target|\n",
    "| $k$  | 0.015       | Investment tax credits vary at the federal level by industry and investment type|\n",
    "| $u^f$  | 0.21       | Federal IRC|\n",
    "| $u^s$  | 0.05       | Avg. excise tax rate across states|\n",
    "| $z^f$  | Varies        | Federal IRC|\n",
    "| $z^s$  |   Varies      | Like Federal IRC, but no bonus deprec |\n",
    "| $w$  | 0.001       | Average franchise tax rate across states |\n",
    "| $\\tau^{GR}$  | 0.0004 | Average gross receipts tax across states |"
   ]
  },
  {
   "cell_type": "markdown",
   "metadata": {},
   "source": [
    "### 1.1. Estimate the cost of a year of R&D expensing (without retroactivity)\n",
    "The JCT May 13, 2025 estimate of the 2025 Budget Reconciliation was only for domestic R&D and had was set to sunset in 2029. The JCT 2025 estimate was the following ($billion):\n",
    "\n",
    "| 2025 | 2026 | 2027 | 2028 | 2029 | 2025-2029 |\n",
    "| :---: | :---: | :---: | :---: | :---: | :---: |\n",
    "| -28.938 | -38.834 | -29.801 | - 20.363 | -10.559 | -128.495|\n",
    "\n",
    "The average of the first four years is -$29.484 billion per year, and the average of the first five years is -$25.699 billion per year.\n",
    "\n",
    "The JCT December 18, 2017 of the effects of the Tax Cuts and Jobs Act estimated the effects of replacing the full deductibility of R&D expenses with national and internation amortization schedules as beginning in 2022. The increase in revenue declines in the last two years (2026 and 2027) because all firms are amortizing by then on a 5-year schedule. But the cost in the intial four years was estimated to be the following ($billion):\n",
    "\n",
    "| 2022 | 2023 | 2024 | 2025 | 2022-2025 |\n",
    "| :---: | :---: | :---: | :---: | :---: |\n",
    "| +24.2 | +32.9 | +26.0 | +18.9 | +102.0 |\n",
    "\n",
    "The average of the first four years is +$25.5 billion per year. If we inflation adjust that 2022-2025 average to the increase in the CBO forecast of the CPI from 2023 to 2026 (+10.7%), or the 2024 to 2026 (7.2%), we get an increase of +$28.229 or +$27.336 billion per year. We choose an estimate in the middle of +$28.0 billion.\n",
    "\n",
    "The JCT 2014 estimate of the American Research and Competitiveness Act raised the investment tax credit rate 6 percentage points from 14% to 20%. They estimated that this would reduce federal revenue by $19.9 billion in 2023 and $21.3 billion in 2024 (average $20.6 billion). If a 6 percentage point increase in the investment tax credit generates a revenue cost of $20.6 billion in 2023 and 2024, a 7.4 percentage point increase in the investment tax credit would generate a $25.5 billion revenue cost per year revenue. That means that a 53% increase in the investment tax credit rate (7.4/14) is equivalent to restoring full R&D expensing."
   ]
  },
  {
   "cell_type": "markdown",
   "metadata": {
    "id": "FPc-vbli8fsb"
   },
   "source": [
    "#### Setup\n",
    "\n",
    "Create objects to work with."
   ]
  },
  {
   "cell_type": "code",
   "execution_count": 14,
   "metadata": {
    "id": "g-V3V27Rc4Bo"
   },
   "outputs": [],
   "source": [
    "# Creating an instance of the Assets class and call it \"assets\"\n",
    "assets = ccc.data.Assets()\n",
    "# Create an instance of the DepreciationParams\n",
    "# class object and call it dp\n",
    "dp = ccc.parameters.DepreciationParams()"
   ]
  },
  {
   "cell_type": "code",
   "execution_count": 15,
   "metadata": {
    "id": "7DDWmsRDowWK"
   },
   "outputs": [],
   "source": [
    "# define new cost of capital function to take into account state taxes\n",
    "def eq_coc_state(delta, z_f, z_s, w, u_f, u_s, tau_GR, inv_tax_credit, pi, r):\n",
    "    r'''\n",
    "    Compute the cost of capital\n",
    "    .. math::\n",
    "        \\rho = \\frac{\\frac{(r-\\pi+\\delta)}{1-u^f-u^s+u^fu^s}(1-u^fz^f-u^sz^s+u^fu^sz^s)+w}{(1-\\tau^GR)}-\\delta\n",
    "    Args:\n",
    "        delta (array_like): rate of economic depreciation\n",
    "        z_f (array_like): net present value of depreciation deductions for\n",
    "            $1 of investment under the federal system\n",
    "        z_s (array_like): net present value of depreciation deductions for\n",
    "            $1 of investment under the state system\n",
    "        w (scalar): property tax rate\n",
    "        u_f (scalar): statutory marginal tax rate for the first layer of\n",
    "            income taxes at the federal level\n",
    "        u_s (scalar): statutory marginal tax rate for the first layer of\n",
    "            income taxes at the state level\n",
    "        tau_GR (scalar): gross receipts tax\n",
    "        inv_tax_credit (scalar): investment tax credit rate\n",
    "        pi (scalar): inflation rate\n",
    "        r (scalar): discount rate\n",
    "    Returns:\n",
    "        rho (array_like): the cost of capital\n",
    "    '''\n",
    "    rho = (\n",
    "        ((((r - pi + delta) / (1 - u_f - u_s + u_f * u_s)) *\n",
    "          (1 - inv_tax_credit - u_f * z_f - u_s * z_s + u_f * u_s * z_s) + w) /\n",
    "         (1 - tau_GR)) - delta\n",
    "    )\n",
    "\n",
    "    return rho"
   ]
  },
  {
   "cell_type": "markdown",
   "metadata": {},
   "source": [
    "Define the baseline model parameters"
   ]
  },
  {
   "cell_type": "code",
   "execution_count": 16,
   "metadata": {
    "id": "gQahy5bAAuzv"
   },
   "outputs": [],
   "source": [
    "# Define model parameters\n",
    "inflation_rate = 0.02 # Inflation rate\n",
    "nominal_int_rate = 0.06\n",
    "fraction_financed_w_debt = 0.0\n",
    "# Specify federal bonus for 2025\n",
    "federal_bonus_depreciation = {\"machines\": 0.2, \"buildings\": 0.0, \"intangibles\": 0.2}\n",
    "depreciation_rates = {\"machines\": 0.1031, \"buildings\": 0.0314, \"intangibles\": 0.33}\n",
    "# Example machine: EI40, example building: SI00, example intangible: ENS3\n",
    "depreciation_lives = {\"machines\": 7, \"buildings\": 39, \"intangibles\": 3}\n",
    "depreciation_methods = {\"machines\": \"dbsl\", \"buildings\": \"sl\", \"intangibles\": \"sl\"}\n",
    "E = 0.06  # Expected after-tax return on corporate equity\n",
    "profit_rate = 0.2 # 0.2 is a 20% profit rate\n",
    "int_haircut = 0.0\n",
    "u_f = 0.21\n",
    "u_s = 0.05  # Average excise tax rate across states\n",
    "franchise_tax_rate = 0.001  # Average franchise tax rate across states\n",
    "tau_GR = 0.0004  # Average gross receipts tax rate across states\n",
    "# Average federal and state investment tax credit rates\n",
    "inv_tax_credit_f = {\"machines\": 0.015, \"buildings\": 0.025, \"intangibles\": 0.01}\n",
    "bonus_s = {\"machines\": 0.0, \"buildings\": 0.0, \"intangibles\": 0.0}"
   ]
  },
  {
   "cell_type": "code",
   "execution_count": 17,
   "metadata": {
    "id": "O42yHQtvTU23"
   },
   "outputs": [],
   "source": [
    "# compute outputs\n",
    "def compute_outputs(u_s, bonus_s, franchise_tax_rate, tau_GR, inv_tax_credit):\n",
    "    \"\"\"\n",
    "    This function computes the outputs of interest and allows one to change the\n",
    "    parameters of SC state law\n",
    "\n",
    "    Args:\n",
    "      u_s (scalar): statutory marginal tax rate for the first layer of\n",
    "            income taxes at the state level\n",
    "      bonus_s (dict): rates of bonus depreciation in TN by asset type\n",
    "      franchise_tax_rate (scalar): TN franchise tax rate\n",
    "      excise_tax_rate (scalar): TN excise tax rate\n",
    "      tau_GR (scalar): gross receipts tax\n",
    "    \"\"\"\n",
    "    out_dict = {\"machines\": {}, \"buildings\": {}, \"intangibles\": {}}\n",
    "    for k, v in depreciation_rates.items():\n",
    "        r = ccc.paramfunctions.calc_r(\n",
    "            u_f + u_s - u_f * u_s, nominal_int_rate, inflation_rate,\n",
    "            nominal_int_rate, fraction_financed_w_debt, int_haircut, E, 0.0)\n",
    "        r_prime = ccc.paramfunctions.calc_r_prime(\n",
    "            nominal_int_rate, inflation_rate, fraction_financed_w_debt, E)\n",
    "        if depreciation_methods[k] == \"dbsl\":\n",
    "            z_f = ccc.calcfunctions.dbsl(depreciation_lives[k], 2, federal_bonus_depreciation[k], r)\n",
    "            z_s = ccc.calcfunctions.dbsl(depreciation_lives[k], 2, bonus_s[k], r)\n",
    "        elif depreciation_methods[k] == \"sl\":\n",
    "            z_f = ccc.calcfunctions.sl(depreciation_lives[k], federal_bonus_depreciation[k], r)\n",
    "            z_s = ccc.calcfunctions.sl(depreciation_lives[k], bonus_s[k], r)\n",
    "        else:\n",
    "          print(\"Please enter one of: dbsl, sl\")\n",
    "          assert False\n",
    "        rho = eq_coc_state(\n",
    "            depreciation_rates[k], z_f, z_s, franchise_tax_rate, u_f, u_s,\n",
    "            tau_GR, inv_tax_credit[k], inflation_rate, r\n",
    "        )\n",
    "        metr = ccc.calcfunctions.eq_metr(rho, r_prime, inflation_rate)\n",
    "        eatr = ccc.calcfunctions.eq_eatr(\n",
    "            rho, metr, profit_rate, u_f + u_s - u_f * u_s\n",
    "        )\n",
    "        out_dict[k][\"rho\"] = rho\n",
    "        out_dict[k][\"metr\"] = metr\n",
    "        out_dict[k][\"eatr\"] = eatr\n",
    "    return out_dict"
   ]
  },
  {
   "cell_type": "code",
   "execution_count": 18,
   "metadata": {
    "id": "C37mzRCgUtav"
   },
   "outputs": [
    {
     "name": "stdout",
     "output_type": "stream",
     "text": [
      "Investment tax credit rates current law: {'machines': 0.015, 'buildings': 0.025, 'intangibles': 0.01}\n",
      "Investment tax credit rate percent increase for 2026: 0.795\n",
      "Investment tax credit rates for 2026: {'machines': 0.026924999999999998, 'buildings': 0.044875, 'intangibles': 0.01795}\n",
      "Average investment tax credit rate for 2026: 0.029916666666666664\n",
      "Investment tax credit rate percent increase for 2027: 0.53\n",
      "Investment tax credit rates for 2027: {'machines': 0.022949999999999998, 'buildings': 0.038250000000000006, 'intangibles': 0.015300000000000001}\n"
     ]
    }
   ],
   "source": [
    "print(\"Investment tax credit rates current law:\", inv_tax_credit_f)\n",
    "# Current law\n",
    "base_df = pd.DataFrame(\n",
    "    compute_outputs(u_s, bonus_s, franchise_tax_rate, tau_GR, inv_tax_credit_f)\n",
    ")\n",
    "# Increase federal investment tax credit rate by 53% in each year from 2027 on\n",
    "# and by 53% + 50% of 53% in 2026\n",
    "inv_tax_rate_pct_incr_2026 = 0.53 + (0.53 * 0.5)\n",
    "print(\n",
    "    \"Investment tax credit rate percent increase for 2026:\",\n",
    "    inv_tax_rate_pct_incr_2026\n",
    ")\n",
    "inv_tax_credit_f2026 = {\n",
    "    \"machines\": 0.015 * (1 + inv_tax_rate_pct_incr_2026 ),\n",
    "    \"buildings\": 0.025 * (1 + inv_tax_rate_pct_incr_2026),\n",
    "    \"intangibles\": 0.01 * (1 + inv_tax_rate_pct_incr_2026)\n",
    "}\n",
    "print(\"Investment tax credit rates for 2026:\", inv_tax_credit_f2026)\n",
    "print(\n",
    "    \"Average investment tax credit rate for 2026:\",\n",
    "    (\n",
    "        inv_tax_credit_f2026[\"machines\"] +\n",
    "        inv_tax_credit_f2026[\"buildings\"] +\n",
    "        inv_tax_credit_f2026[\"intangibles\"]\n",
    "    ) / 3\n",
    ")\n",
    "# Increas federal investment tax credit rate by 43% from 2027 onward\n",
    "inv_tax_rate_pct_incr_2027 = 0.53\n",
    "print(\n",
    "    \"Investment tax credit rate percent increase for 2027:\",\n",
    "    inv_tax_rate_pct_incr_2027\n",
    ")\n",
    "inv_tax_credit_f2027 = {\n",
    "    \"machines\": 0.015 * (1 + inv_tax_rate_pct_incr_2027),\n",
    "    \"buildings\": 0.025 * (1 + inv_tax_rate_pct_incr_2027),\n",
    "    \"intangibles\": 0.01 * (1 + inv_tax_rate_pct_incr_2027)\n",
    "}\n",
    "print(\"Investment tax credit rates for 2027:\", inv_tax_credit_f2027)\n",
    "# Compute outputs for 2026\n",
    "rdcredit_2026_df = pd.DataFrame(\n",
    "    compute_outputs(\n",
    "        u_s, bonus_s, franchise_tax_rate, tau_GR, inv_tax_credit_f2026\n",
    "    )\n",
    ")\n",
    "# Compute outputs for 2027\n",
    "rdcredit_2027_df = pd.DataFrame(\n",
    "    compute_outputs(\n",
    "        u_s, bonus_s, franchise_tax_rate, tau_GR, inv_tax_credit_f2027\n",
    "    )\n",
    ")"
   ]
  },
  {
   "cell_type": "code",
   "execution_count": 19,
   "metadata": {
    "id": "S_sLTwn_XYZp"
   },
   "outputs": [],
   "source": [
    "# Create policy names and put in one dataframe\n",
    "base_df['Policy'] = \"Current Law\"\n",
    "rdcredit_2026_df['Policy'] = \"R&D tax credit 2026\"\n",
    "rdcredit_2027_df['Policy'] = \"R&D tax credit 2027\"\n",
    "# append dataframes together\n",
    "df = pd.concat([base_df, rdcredit_2026_df, rdcredit_2027_df])\n",
    "df.reset_index(inplace=True)\n",
    "df.rename(columns={\"index\": \"output_var\"}, inplace=True)\n",
    "df = pd.melt(df, id_vars=[\"Policy\", \"output_var\"], var_name=\"asset_type\")"
   ]
  },
  {
   "cell_type": "code",
   "execution_count": 20,
   "metadata": {
    "colab": {
     "base_uri": "https://localhost:8080/",
     "height": 417
    },
    "id": "7CoFvIwXcIS6",
    "outputId": "7d047ebd-24ee-470f-d50d-c4838cf860ec"
   },
   "outputs": [
    {
     "data": {
      "application/vnd.plotly.v1+json": {
       "config": {
        "plotlyServerURL": "https://plot.ly"
       },
       "data": [
        {
         "hovertemplate": "Policy=%{x}<br>Marginal Effective Tax Rate=%{y}<extra></extra>",
         "legendgroup": "Current Law",
         "marker": {
          "color": "#636efa",
          "pattern": {
           "shape": ""
          }
         },
         "name": "Current Law",
         "orientation": "v",
         "showlegend": true,
         "textposition": "auto",
         "type": "bar",
         "x": [
          "Current Law"
         ],
         "xaxis": "x",
         "y": {
          "bdata": "AIz4sEUiuT8=",
          "dtype": "f8"
         },
         "yaxis": "y"
        },
        {
         "hovertemplate": "Policy=%{x}<br>Marginal Effective Tax Rate=%{y}<extra></extra>",
         "legendgroup": "R&D tax credit 2026",
         "marker": {
          "color": "#EF553B",
          "pattern": {
           "shape": ""
          }
         },
         "name": "R&D tax credit 2026",
         "orientation": "v",
         "showlegend": true,
         "textposition": "auto",
         "type": "bar",
         "x": [
          "R&D tax credit 2026"
         ],
         "xaxis": "x",
         "y": {
          "bdata": "yZXdDKqLrz8=",
          "dtype": "f8"
         },
         "yaxis": "y"
        },
        {
         "hovertemplate": "Policy=%{x}<br>Marginal Effective Tax Rate=%{y}<extra></extra>",
         "legendgroup": "R&D tax credit 2027",
         "marker": {
          "color": "#00cc96",
          "pattern": {
           "shape": ""
          }
         },
         "name": "R&D tax credit 2027",
         "orientation": "v",
         "showlegend": true,
         "textposition": "auto",
         "type": "bar",
         "x": [
          "R&D tax credit 2027"
         ],
         "xaxis": "x",
         "y": {
          "bdata": "5vehbvP5sj8=",
          "dtype": "f8"
         },
         "yaxis": "y"
        }
       ],
       "layout": {
        "barmode": "relative",
        "height": 400,
        "legend": {
         "title": {
          "text": "Policy"
         },
         "tracegroupgap": 0
        },
        "margin": {
         "t": 60
        },
        "template": {
         "data": {
          "bar": [
           {
            "error_x": {
             "color": "#2a3f5f"
            },
            "error_y": {
             "color": "#2a3f5f"
            },
            "marker": {
             "line": {
              "color": "#E5ECF6",
              "width": 0.5
             },
             "pattern": {
              "fillmode": "overlay",
              "size": 10,
              "solidity": 0.2
             }
            },
            "type": "bar"
           }
          ],
          "barpolar": [
           {
            "marker": {
             "line": {
              "color": "#E5ECF6",
              "width": 0.5
             },
             "pattern": {
              "fillmode": "overlay",
              "size": 10,
              "solidity": 0.2
             }
            },
            "type": "barpolar"
           }
          ],
          "carpet": [
           {
            "aaxis": {
             "endlinecolor": "#2a3f5f",
             "gridcolor": "white",
             "linecolor": "white",
             "minorgridcolor": "white",
             "startlinecolor": "#2a3f5f"
            },
            "baxis": {
             "endlinecolor": "#2a3f5f",
             "gridcolor": "white",
             "linecolor": "white",
             "minorgridcolor": "white",
             "startlinecolor": "#2a3f5f"
            },
            "type": "carpet"
           }
          ],
          "choropleth": [
           {
            "colorbar": {
             "outlinewidth": 0,
             "ticks": ""
            },
            "type": "choropleth"
           }
          ],
          "contour": [
           {
            "colorbar": {
             "outlinewidth": 0,
             "ticks": ""
            },
            "colorscale": [
             [
              0,
              "#0d0887"
             ],
             [
              0.1111111111111111,
              "#46039f"
             ],
             [
              0.2222222222222222,
              "#7201a8"
             ],
             [
              0.3333333333333333,
              "#9c179e"
             ],
             [
              0.4444444444444444,
              "#bd3786"
             ],
             [
              0.5555555555555556,
              "#d8576b"
             ],
             [
              0.6666666666666666,
              "#ed7953"
             ],
             [
              0.7777777777777778,
              "#fb9f3a"
             ],
             [
              0.8888888888888888,
              "#fdca26"
             ],
             [
              1,
              "#f0f921"
             ]
            ],
            "type": "contour"
           }
          ],
          "contourcarpet": [
           {
            "colorbar": {
             "outlinewidth": 0,
             "ticks": ""
            },
            "type": "contourcarpet"
           }
          ],
          "heatmap": [
           {
            "colorbar": {
             "outlinewidth": 0,
             "ticks": ""
            },
            "colorscale": [
             [
              0,
              "#0d0887"
             ],
             [
              0.1111111111111111,
              "#46039f"
             ],
             [
              0.2222222222222222,
              "#7201a8"
             ],
             [
              0.3333333333333333,
              "#9c179e"
             ],
             [
              0.4444444444444444,
              "#bd3786"
             ],
             [
              0.5555555555555556,
              "#d8576b"
             ],
             [
              0.6666666666666666,
              "#ed7953"
             ],
             [
              0.7777777777777778,
              "#fb9f3a"
             ],
             [
              0.8888888888888888,
              "#fdca26"
             ],
             [
              1,
              "#f0f921"
             ]
            ],
            "type": "heatmap"
           }
          ],
          "histogram": [
           {
            "marker": {
             "pattern": {
              "fillmode": "overlay",
              "size": 10,
              "solidity": 0.2
             }
            },
            "type": "histogram"
           }
          ],
          "histogram2d": [
           {
            "colorbar": {
             "outlinewidth": 0,
             "ticks": ""
            },
            "colorscale": [
             [
              0,
              "#0d0887"
             ],
             [
              0.1111111111111111,
              "#46039f"
             ],
             [
              0.2222222222222222,
              "#7201a8"
             ],
             [
              0.3333333333333333,
              "#9c179e"
             ],
             [
              0.4444444444444444,
              "#bd3786"
             ],
             [
              0.5555555555555556,
              "#d8576b"
             ],
             [
              0.6666666666666666,
              "#ed7953"
             ],
             [
              0.7777777777777778,
              "#fb9f3a"
             ],
             [
              0.8888888888888888,
              "#fdca26"
             ],
             [
              1,
              "#f0f921"
             ]
            ],
            "type": "histogram2d"
           }
          ],
          "histogram2dcontour": [
           {
            "colorbar": {
             "outlinewidth": 0,
             "ticks": ""
            },
            "colorscale": [
             [
              0,
              "#0d0887"
             ],
             [
              0.1111111111111111,
              "#46039f"
             ],
             [
              0.2222222222222222,
              "#7201a8"
             ],
             [
              0.3333333333333333,
              "#9c179e"
             ],
             [
              0.4444444444444444,
              "#bd3786"
             ],
             [
              0.5555555555555556,
              "#d8576b"
             ],
             [
              0.6666666666666666,
              "#ed7953"
             ],
             [
              0.7777777777777778,
              "#fb9f3a"
             ],
             [
              0.8888888888888888,
              "#fdca26"
             ],
             [
              1,
              "#f0f921"
             ]
            ],
            "type": "histogram2dcontour"
           }
          ],
          "mesh3d": [
           {
            "colorbar": {
             "outlinewidth": 0,
             "ticks": ""
            },
            "type": "mesh3d"
           }
          ],
          "parcoords": [
           {
            "line": {
             "colorbar": {
              "outlinewidth": 0,
              "ticks": ""
             }
            },
            "type": "parcoords"
           }
          ],
          "pie": [
           {
            "automargin": true,
            "type": "pie"
           }
          ],
          "scatter": [
           {
            "fillpattern": {
             "fillmode": "overlay",
             "size": 10,
             "solidity": 0.2
            },
            "type": "scatter"
           }
          ],
          "scatter3d": [
           {
            "line": {
             "colorbar": {
              "outlinewidth": 0,
              "ticks": ""
             }
            },
            "marker": {
             "colorbar": {
              "outlinewidth": 0,
              "ticks": ""
             }
            },
            "type": "scatter3d"
           }
          ],
          "scattercarpet": [
           {
            "marker": {
             "colorbar": {
              "outlinewidth": 0,
              "ticks": ""
             }
            },
            "type": "scattercarpet"
           }
          ],
          "scattergeo": [
           {
            "marker": {
             "colorbar": {
              "outlinewidth": 0,
              "ticks": ""
             }
            },
            "type": "scattergeo"
           }
          ],
          "scattergl": [
           {
            "marker": {
             "colorbar": {
              "outlinewidth": 0,
              "ticks": ""
             }
            },
            "type": "scattergl"
           }
          ],
          "scattermap": [
           {
            "marker": {
             "colorbar": {
              "outlinewidth": 0,
              "ticks": ""
             }
            },
            "type": "scattermap"
           }
          ],
          "scattermapbox": [
           {
            "marker": {
             "colorbar": {
              "outlinewidth": 0,
              "ticks": ""
             }
            },
            "type": "scattermapbox"
           }
          ],
          "scatterpolar": [
           {
            "marker": {
             "colorbar": {
              "outlinewidth": 0,
              "ticks": ""
             }
            },
            "type": "scatterpolar"
           }
          ],
          "scatterpolargl": [
           {
            "marker": {
             "colorbar": {
              "outlinewidth": 0,
              "ticks": ""
             }
            },
            "type": "scatterpolargl"
           }
          ],
          "scatterternary": [
           {
            "marker": {
             "colorbar": {
              "outlinewidth": 0,
              "ticks": ""
             }
            },
            "type": "scatterternary"
           }
          ],
          "surface": [
           {
            "colorbar": {
             "outlinewidth": 0,
             "ticks": ""
            },
            "colorscale": [
             [
              0,
              "#0d0887"
             ],
             [
              0.1111111111111111,
              "#46039f"
             ],
             [
              0.2222222222222222,
              "#7201a8"
             ],
             [
              0.3333333333333333,
              "#9c179e"
             ],
             [
              0.4444444444444444,
              "#bd3786"
             ],
             [
              0.5555555555555556,
              "#d8576b"
             ],
             [
              0.6666666666666666,
              "#ed7953"
             ],
             [
              0.7777777777777778,
              "#fb9f3a"
             ],
             [
              0.8888888888888888,
              "#fdca26"
             ],
             [
              1,
              "#f0f921"
             ]
            ],
            "type": "surface"
           }
          ],
          "table": [
           {
            "cells": {
             "fill": {
              "color": "#EBF0F8"
             },
             "line": {
              "color": "white"
             }
            },
            "header": {
             "fill": {
              "color": "#C8D4E3"
             },
             "line": {
              "color": "white"
             }
            },
            "type": "table"
           }
          ]
         },
         "layout": {
          "annotationdefaults": {
           "arrowcolor": "#2a3f5f",
           "arrowhead": 0,
           "arrowwidth": 1
          },
          "autotypenumbers": "strict",
          "coloraxis": {
           "colorbar": {
            "outlinewidth": 0,
            "ticks": ""
           }
          },
          "colorscale": {
           "diverging": [
            [
             0,
             "#8e0152"
            ],
            [
             0.1,
             "#c51b7d"
            ],
            [
             0.2,
             "#de77ae"
            ],
            [
             0.3,
             "#f1b6da"
            ],
            [
             0.4,
             "#fde0ef"
            ],
            [
             0.5,
             "#f7f7f7"
            ],
            [
             0.6,
             "#e6f5d0"
            ],
            [
             0.7,
             "#b8e186"
            ],
            [
             0.8,
             "#7fbc41"
            ],
            [
             0.9,
             "#4d9221"
            ],
            [
             1,
             "#276419"
            ]
           ],
           "sequential": [
            [
             0,
             "#0d0887"
            ],
            [
             0.1111111111111111,
             "#46039f"
            ],
            [
             0.2222222222222222,
             "#7201a8"
            ],
            [
             0.3333333333333333,
             "#9c179e"
            ],
            [
             0.4444444444444444,
             "#bd3786"
            ],
            [
             0.5555555555555556,
             "#d8576b"
            ],
            [
             0.6666666666666666,
             "#ed7953"
            ],
            [
             0.7777777777777778,
             "#fb9f3a"
            ],
            [
             0.8888888888888888,
             "#fdca26"
            ],
            [
             1,
             "#f0f921"
            ]
           ],
           "sequentialminus": [
            [
             0,
             "#0d0887"
            ],
            [
             0.1111111111111111,
             "#46039f"
            ],
            [
             0.2222222222222222,
             "#7201a8"
            ],
            [
             0.3333333333333333,
             "#9c179e"
            ],
            [
             0.4444444444444444,
             "#bd3786"
            ],
            [
             0.5555555555555556,
             "#d8576b"
            ],
            [
             0.6666666666666666,
             "#ed7953"
            ],
            [
             0.7777777777777778,
             "#fb9f3a"
            ],
            [
             0.8888888888888888,
             "#fdca26"
            ],
            [
             1,
             "#f0f921"
            ]
           ]
          },
          "colorway": [
           "#636efa",
           "#EF553B",
           "#00cc96",
           "#ab63fa",
           "#FFA15A",
           "#19d3f3",
           "#FF6692",
           "#B6E880",
           "#FF97FF",
           "#FECB52"
          ],
          "font": {
           "color": "#2a3f5f"
          },
          "geo": {
           "bgcolor": "white",
           "lakecolor": "white",
           "landcolor": "#E5ECF6",
           "showlakes": true,
           "showland": true,
           "subunitcolor": "white"
          },
          "hoverlabel": {
           "align": "left"
          },
          "hovermode": "closest",
          "mapbox": {
           "style": "light"
          },
          "paper_bgcolor": "white",
          "plot_bgcolor": "#E5ECF6",
          "polar": {
           "angularaxis": {
            "gridcolor": "white",
            "linecolor": "white",
            "ticks": ""
           },
           "bgcolor": "#E5ECF6",
           "radialaxis": {
            "gridcolor": "white",
            "linecolor": "white",
            "ticks": ""
           }
          },
          "scene": {
           "xaxis": {
            "backgroundcolor": "#E5ECF6",
            "gridcolor": "white",
            "gridwidth": 2,
            "linecolor": "white",
            "showbackground": true,
            "ticks": "",
            "zerolinecolor": "white"
           },
           "yaxis": {
            "backgroundcolor": "#E5ECF6",
            "gridcolor": "white",
            "gridwidth": 2,
            "linecolor": "white",
            "showbackground": true,
            "ticks": "",
            "zerolinecolor": "white"
           },
           "zaxis": {
            "backgroundcolor": "#E5ECF6",
            "gridcolor": "white",
            "gridwidth": 2,
            "linecolor": "white",
            "showbackground": true,
            "ticks": "",
            "zerolinecolor": "white"
           }
          },
          "shapedefaults": {
           "line": {
            "color": "#2a3f5f"
           }
          },
          "ternary": {
           "aaxis": {
            "gridcolor": "white",
            "linecolor": "white",
            "ticks": ""
           },
           "baxis": {
            "gridcolor": "white",
            "linecolor": "white",
            "ticks": ""
           },
           "bgcolor": "#E5ECF6",
           "caxis": {
            "gridcolor": "white",
            "linecolor": "white",
            "ticks": ""
           }
          },
          "title": {
           "x": 0.05
          },
          "xaxis": {
           "automargin": true,
           "gridcolor": "white",
           "linecolor": "white",
           "ticks": "",
           "title": {
            "standoff": 15
           },
           "zerolinecolor": "white",
           "zerolinewidth": 2
          },
          "yaxis": {
           "automargin": true,
           "gridcolor": "white",
           "linecolor": "white",
           "ticks": "",
           "title": {
            "standoff": 15
           },
           "zerolinecolor": "white",
           "zerolinewidth": 2
          }
         }
        },
        "xaxis": {
         "anchor": "y",
         "categoryarray": [
          "Current Law",
          "R&D tax credit 2026",
          "R&D tax credit 2027"
         ],
         "categoryorder": "array",
         "domain": [
          0,
          1
         ],
         "title": {
          "text": "Policy"
         }
        },
        "yaxis": {
         "anchor": "x",
         "domain": [
          0,
          1
         ],
         "title": {
          "text": "Marginal Effective Tax Rate"
         }
        }
       }
      }
     },
     "metadata": {},
     "output_type": "display_data"
    }
   ],
   "source": [
    "# Plot Figure 1: Effect of Full R&D expensing deductibility in 2026 on Business\n",
    "# Incentives to Invest\n",
    "fig1 = px.bar(\n",
    "    df[(df[\"output_var\"]==\"metr\") & (df[\"asset_type\"]==\"machines\")],\n",
    "    x=\"Policy\", y=\"value\", color='Policy',\n",
    "    labels={'value':'Marginal Effective Tax Rate'}, height=400\n",
    ")\n",
    "fig1.show()"
   ]
  },
  {
   "cell_type": "code",
   "execution_count": 21,
   "metadata": {
    "colab": {
     "base_uri": "https://localhost:8080/",
     "height": 417
    },
    "id": "9vgBW0hO52CB",
    "outputId": "460145e3-71f4-403e-dc80-92ab500fb3f6"
   },
   "outputs": [
    {
     "data": {
      "application/vnd.plotly.v1+json": {
       "config": {
        "plotlyServerURL": "https://plot.ly"
       },
       "data": [
        {
         "hovertemplate": "Policy=%{x}<br>Cost of Capital=%{y}<extra></extra>",
         "legendgroup": "Current Law",
         "marker": {
          "color": "#636efa",
          "pattern": {
           "shape": ""
          }
         },
         "name": "Current Law",
         "orientation": "v",
         "showlegend": true,
         "textposition": "auto",
         "type": "bar",
         "x": [
          "Current Law"
         ],
         "xaxis": "x",
         "y": {
          "bdata": "dmXI0z4IsT8=",
          "dtype": "f8"
         },
         "yaxis": "y"
        },
        {
         "hovertemplate": "Policy=%{x}<br>Cost of Capital=%{y}<extra></extra>",
         "legendgroup": "R&D tax credit 2026",
         "marker": {
          "color": "#EF553B",
          "pattern": {
           "shape": ""
          }
         },
         "name": "R&D tax credit 2026",
         "orientation": "v",
         "showlegend": true,
         "textposition": "auto",
         "type": "bar",
         "x": [
          "R&D tax credit 2026"
         ],
         "xaxis": "x",
         "y": {
          "bdata": "uDRxOlZesD8=",
          "dtype": "f8"
         },
         "yaxis": "y"
        },
        {
         "hovertemplate": "Policy=%{x}<br>Cost of Capital=%{y}<extra></extra>",
         "legendgroup": "R&D tax credit 2027",
         "marker": {
          "color": "#00cc96",
          "pattern": {
           "shape": ""
          }
         },
         "name": "R&D tax credit 2027",
         "orientation": "v",
         "showlegend": true,
         "textposition": "auto",
         "type": "bar",
         "x": [
          "R&D tax credit 2027"
         ],
         "xaxis": "x",
         "y": {
          "bdata": "oO84GPmWsD8=",
          "dtype": "f8"
         },
         "yaxis": "y"
        }
       ],
       "layout": {
        "barmode": "relative",
        "height": 400,
        "legend": {
         "title": {
          "text": "Policy"
         },
         "tracegroupgap": 0
        },
        "margin": {
         "t": 60
        },
        "template": {
         "data": {
          "bar": [
           {
            "error_x": {
             "color": "#2a3f5f"
            },
            "error_y": {
             "color": "#2a3f5f"
            },
            "marker": {
             "line": {
              "color": "#E5ECF6",
              "width": 0.5
             },
             "pattern": {
              "fillmode": "overlay",
              "size": 10,
              "solidity": 0.2
             }
            },
            "type": "bar"
           }
          ],
          "barpolar": [
           {
            "marker": {
             "line": {
              "color": "#E5ECF6",
              "width": 0.5
             },
             "pattern": {
              "fillmode": "overlay",
              "size": 10,
              "solidity": 0.2
             }
            },
            "type": "barpolar"
           }
          ],
          "carpet": [
           {
            "aaxis": {
             "endlinecolor": "#2a3f5f",
             "gridcolor": "white",
             "linecolor": "white",
             "minorgridcolor": "white",
             "startlinecolor": "#2a3f5f"
            },
            "baxis": {
             "endlinecolor": "#2a3f5f",
             "gridcolor": "white",
             "linecolor": "white",
             "minorgridcolor": "white",
             "startlinecolor": "#2a3f5f"
            },
            "type": "carpet"
           }
          ],
          "choropleth": [
           {
            "colorbar": {
             "outlinewidth": 0,
             "ticks": ""
            },
            "type": "choropleth"
           }
          ],
          "contour": [
           {
            "colorbar": {
             "outlinewidth": 0,
             "ticks": ""
            },
            "colorscale": [
             [
              0,
              "#0d0887"
             ],
             [
              0.1111111111111111,
              "#46039f"
             ],
             [
              0.2222222222222222,
              "#7201a8"
             ],
             [
              0.3333333333333333,
              "#9c179e"
             ],
             [
              0.4444444444444444,
              "#bd3786"
             ],
             [
              0.5555555555555556,
              "#d8576b"
             ],
             [
              0.6666666666666666,
              "#ed7953"
             ],
             [
              0.7777777777777778,
              "#fb9f3a"
             ],
             [
              0.8888888888888888,
              "#fdca26"
             ],
             [
              1,
              "#f0f921"
             ]
            ],
            "type": "contour"
           }
          ],
          "contourcarpet": [
           {
            "colorbar": {
             "outlinewidth": 0,
             "ticks": ""
            },
            "type": "contourcarpet"
           }
          ],
          "heatmap": [
           {
            "colorbar": {
             "outlinewidth": 0,
             "ticks": ""
            },
            "colorscale": [
             [
              0,
              "#0d0887"
             ],
             [
              0.1111111111111111,
              "#46039f"
             ],
             [
              0.2222222222222222,
              "#7201a8"
             ],
             [
              0.3333333333333333,
              "#9c179e"
             ],
             [
              0.4444444444444444,
              "#bd3786"
             ],
             [
              0.5555555555555556,
              "#d8576b"
             ],
             [
              0.6666666666666666,
              "#ed7953"
             ],
             [
              0.7777777777777778,
              "#fb9f3a"
             ],
             [
              0.8888888888888888,
              "#fdca26"
             ],
             [
              1,
              "#f0f921"
             ]
            ],
            "type": "heatmap"
           }
          ],
          "histogram": [
           {
            "marker": {
             "pattern": {
              "fillmode": "overlay",
              "size": 10,
              "solidity": 0.2
             }
            },
            "type": "histogram"
           }
          ],
          "histogram2d": [
           {
            "colorbar": {
             "outlinewidth": 0,
             "ticks": ""
            },
            "colorscale": [
             [
              0,
              "#0d0887"
             ],
             [
              0.1111111111111111,
              "#46039f"
             ],
             [
              0.2222222222222222,
              "#7201a8"
             ],
             [
              0.3333333333333333,
              "#9c179e"
             ],
             [
              0.4444444444444444,
              "#bd3786"
             ],
             [
              0.5555555555555556,
              "#d8576b"
             ],
             [
              0.6666666666666666,
              "#ed7953"
             ],
             [
              0.7777777777777778,
              "#fb9f3a"
             ],
             [
              0.8888888888888888,
              "#fdca26"
             ],
             [
              1,
              "#f0f921"
             ]
            ],
            "type": "histogram2d"
           }
          ],
          "histogram2dcontour": [
           {
            "colorbar": {
             "outlinewidth": 0,
             "ticks": ""
            },
            "colorscale": [
             [
              0,
              "#0d0887"
             ],
             [
              0.1111111111111111,
              "#46039f"
             ],
             [
              0.2222222222222222,
              "#7201a8"
             ],
             [
              0.3333333333333333,
              "#9c179e"
             ],
             [
              0.4444444444444444,
              "#bd3786"
             ],
             [
              0.5555555555555556,
              "#d8576b"
             ],
             [
              0.6666666666666666,
              "#ed7953"
             ],
             [
              0.7777777777777778,
              "#fb9f3a"
             ],
             [
              0.8888888888888888,
              "#fdca26"
             ],
             [
              1,
              "#f0f921"
             ]
            ],
            "type": "histogram2dcontour"
           }
          ],
          "mesh3d": [
           {
            "colorbar": {
             "outlinewidth": 0,
             "ticks": ""
            },
            "type": "mesh3d"
           }
          ],
          "parcoords": [
           {
            "line": {
             "colorbar": {
              "outlinewidth": 0,
              "ticks": ""
             }
            },
            "type": "parcoords"
           }
          ],
          "pie": [
           {
            "automargin": true,
            "type": "pie"
           }
          ],
          "scatter": [
           {
            "fillpattern": {
             "fillmode": "overlay",
             "size": 10,
             "solidity": 0.2
            },
            "type": "scatter"
           }
          ],
          "scatter3d": [
           {
            "line": {
             "colorbar": {
              "outlinewidth": 0,
              "ticks": ""
             }
            },
            "marker": {
             "colorbar": {
              "outlinewidth": 0,
              "ticks": ""
             }
            },
            "type": "scatter3d"
           }
          ],
          "scattercarpet": [
           {
            "marker": {
             "colorbar": {
              "outlinewidth": 0,
              "ticks": ""
             }
            },
            "type": "scattercarpet"
           }
          ],
          "scattergeo": [
           {
            "marker": {
             "colorbar": {
              "outlinewidth": 0,
              "ticks": ""
             }
            },
            "type": "scattergeo"
           }
          ],
          "scattergl": [
           {
            "marker": {
             "colorbar": {
              "outlinewidth": 0,
              "ticks": ""
             }
            },
            "type": "scattergl"
           }
          ],
          "scattermap": [
           {
            "marker": {
             "colorbar": {
              "outlinewidth": 0,
              "ticks": ""
             }
            },
            "type": "scattermap"
           }
          ],
          "scattermapbox": [
           {
            "marker": {
             "colorbar": {
              "outlinewidth": 0,
              "ticks": ""
             }
            },
            "type": "scattermapbox"
           }
          ],
          "scatterpolar": [
           {
            "marker": {
             "colorbar": {
              "outlinewidth": 0,
              "ticks": ""
             }
            },
            "type": "scatterpolar"
           }
          ],
          "scatterpolargl": [
           {
            "marker": {
             "colorbar": {
              "outlinewidth": 0,
              "ticks": ""
             }
            },
            "type": "scatterpolargl"
           }
          ],
          "scatterternary": [
           {
            "marker": {
             "colorbar": {
              "outlinewidth": 0,
              "ticks": ""
             }
            },
            "type": "scatterternary"
           }
          ],
          "surface": [
           {
            "colorbar": {
             "outlinewidth": 0,
             "ticks": ""
            },
            "colorscale": [
             [
              0,
              "#0d0887"
             ],
             [
              0.1111111111111111,
              "#46039f"
             ],
             [
              0.2222222222222222,
              "#7201a8"
             ],
             [
              0.3333333333333333,
              "#9c179e"
             ],
             [
              0.4444444444444444,
              "#bd3786"
             ],
             [
              0.5555555555555556,
              "#d8576b"
             ],
             [
              0.6666666666666666,
              "#ed7953"
             ],
             [
              0.7777777777777778,
              "#fb9f3a"
             ],
             [
              0.8888888888888888,
              "#fdca26"
             ],
             [
              1,
              "#f0f921"
             ]
            ],
            "type": "surface"
           }
          ],
          "table": [
           {
            "cells": {
             "fill": {
              "color": "#EBF0F8"
             },
             "line": {
              "color": "white"
             }
            },
            "header": {
             "fill": {
              "color": "#C8D4E3"
             },
             "line": {
              "color": "white"
             }
            },
            "type": "table"
           }
          ]
         },
         "layout": {
          "annotationdefaults": {
           "arrowcolor": "#2a3f5f",
           "arrowhead": 0,
           "arrowwidth": 1
          },
          "autotypenumbers": "strict",
          "coloraxis": {
           "colorbar": {
            "outlinewidth": 0,
            "ticks": ""
           }
          },
          "colorscale": {
           "diverging": [
            [
             0,
             "#8e0152"
            ],
            [
             0.1,
             "#c51b7d"
            ],
            [
             0.2,
             "#de77ae"
            ],
            [
             0.3,
             "#f1b6da"
            ],
            [
             0.4,
             "#fde0ef"
            ],
            [
             0.5,
             "#f7f7f7"
            ],
            [
             0.6,
             "#e6f5d0"
            ],
            [
             0.7,
             "#b8e186"
            ],
            [
             0.8,
             "#7fbc41"
            ],
            [
             0.9,
             "#4d9221"
            ],
            [
             1,
             "#276419"
            ]
           ],
           "sequential": [
            [
             0,
             "#0d0887"
            ],
            [
             0.1111111111111111,
             "#46039f"
            ],
            [
             0.2222222222222222,
             "#7201a8"
            ],
            [
             0.3333333333333333,
             "#9c179e"
            ],
            [
             0.4444444444444444,
             "#bd3786"
            ],
            [
             0.5555555555555556,
             "#d8576b"
            ],
            [
             0.6666666666666666,
             "#ed7953"
            ],
            [
             0.7777777777777778,
             "#fb9f3a"
            ],
            [
             0.8888888888888888,
             "#fdca26"
            ],
            [
             1,
             "#f0f921"
            ]
           ],
           "sequentialminus": [
            [
             0,
             "#0d0887"
            ],
            [
             0.1111111111111111,
             "#46039f"
            ],
            [
             0.2222222222222222,
             "#7201a8"
            ],
            [
             0.3333333333333333,
             "#9c179e"
            ],
            [
             0.4444444444444444,
             "#bd3786"
            ],
            [
             0.5555555555555556,
             "#d8576b"
            ],
            [
             0.6666666666666666,
             "#ed7953"
            ],
            [
             0.7777777777777778,
             "#fb9f3a"
            ],
            [
             0.8888888888888888,
             "#fdca26"
            ],
            [
             1,
             "#f0f921"
            ]
           ]
          },
          "colorway": [
           "#636efa",
           "#EF553B",
           "#00cc96",
           "#ab63fa",
           "#FFA15A",
           "#19d3f3",
           "#FF6692",
           "#B6E880",
           "#FF97FF",
           "#FECB52"
          ],
          "font": {
           "color": "#2a3f5f"
          },
          "geo": {
           "bgcolor": "white",
           "lakecolor": "white",
           "landcolor": "#E5ECF6",
           "showlakes": true,
           "showland": true,
           "subunitcolor": "white"
          },
          "hoverlabel": {
           "align": "left"
          },
          "hovermode": "closest",
          "mapbox": {
           "style": "light"
          },
          "paper_bgcolor": "white",
          "plot_bgcolor": "#E5ECF6",
          "polar": {
           "angularaxis": {
            "gridcolor": "white",
            "linecolor": "white",
            "ticks": ""
           },
           "bgcolor": "#E5ECF6",
           "radialaxis": {
            "gridcolor": "white",
            "linecolor": "white",
            "ticks": ""
           }
          },
          "scene": {
           "xaxis": {
            "backgroundcolor": "#E5ECF6",
            "gridcolor": "white",
            "gridwidth": 2,
            "linecolor": "white",
            "showbackground": true,
            "ticks": "",
            "zerolinecolor": "white"
           },
           "yaxis": {
            "backgroundcolor": "#E5ECF6",
            "gridcolor": "white",
            "gridwidth": 2,
            "linecolor": "white",
            "showbackground": true,
            "ticks": "",
            "zerolinecolor": "white"
           },
           "zaxis": {
            "backgroundcolor": "#E5ECF6",
            "gridcolor": "white",
            "gridwidth": 2,
            "linecolor": "white",
            "showbackground": true,
            "ticks": "",
            "zerolinecolor": "white"
           }
          },
          "shapedefaults": {
           "line": {
            "color": "#2a3f5f"
           }
          },
          "ternary": {
           "aaxis": {
            "gridcolor": "white",
            "linecolor": "white",
            "ticks": ""
           },
           "baxis": {
            "gridcolor": "white",
            "linecolor": "white",
            "ticks": ""
           },
           "bgcolor": "#E5ECF6",
           "caxis": {
            "gridcolor": "white",
            "linecolor": "white",
            "ticks": ""
           }
          },
          "title": {
           "x": 0.05
          },
          "xaxis": {
           "automargin": true,
           "gridcolor": "white",
           "linecolor": "white",
           "ticks": "",
           "title": {
            "standoff": 15
           },
           "zerolinecolor": "white",
           "zerolinewidth": 2
          },
          "yaxis": {
           "automargin": true,
           "gridcolor": "white",
           "linecolor": "white",
           "ticks": "",
           "title": {
            "standoff": 15
           },
           "zerolinecolor": "white",
           "zerolinewidth": 2
          }
         }
        },
        "xaxis": {
         "anchor": "y",
         "categoryarray": [
          "Current Law",
          "R&D tax credit 2026",
          "R&D tax credit 2027"
         ],
         "categoryorder": "array",
         "domain": [
          0,
          1
         ],
         "title": {
          "text": "Policy"
         }
        },
        "yaxis": {
         "anchor": "x",
         "domain": [
          0,
          1
         ],
         "title": {
          "text": "Cost of Capital"
         }
        }
       }
      }
     },
     "metadata": {},
     "output_type": "display_data"
    }
   ],
   "source": [
    "# Other results\n",
    "fig2 = px.bar(\n",
    "    df[(df[\"output_var\"]==\"rho\") & (df[\"asset_type\"]==\"machines\")], x=\"Policy\",\n",
    "    y=\"value\", color='Policy', labels={'value':'Cost of Capital'}, height=400\n",
    ")\n",
    "fig2.show()"
   ]
  },
  {
   "cell_type": "code",
   "execution_count": 22,
   "metadata": {
    "colab": {
     "base_uri": "https://localhost:8080/",
     "height": 417
    },
    "id": "_VWDAimFZT0-",
    "outputId": "5b6f04c0-46b3-4b58-ac68-4e27e6cf59d9"
   },
   "outputs": [
    {
     "data": {
      "application/vnd.plotly.v1+json": {
       "config": {
        "plotlyServerURL": "https://plot.ly"
       },
       "data": [
        {
         "alignmentgroup": "True",
         "bingroup": "x",
         "histfunc": "sum",
         "hovertemplate": "Policy=Current Law<br>Asset Type=%{x}<br>sum of Marginal Effective Tax Rate=%{y}<extra></extra>",
         "legendgroup": "Current Law",
         "marker": {
          "color": "#636efa",
          "pattern": {
           "shape": ""
          }
         },
         "name": "Current Law",
         "offsetgroup": "Current Law",
         "orientation": "v",
         "showlegend": true,
         "type": "histogram",
         "x": [
          "machines",
          "buildings",
          "intangibles"
         ],
         "xaxis": "x",
         "y": {
          "bdata": "AIz4sEUiuT+LLq/D3+DOP5AmoSQ1370/",
          "dtype": "f8"
         },
         "yaxis": "y"
        }
       ],
       "layout": {
        "barmode": "group",
        "height": 400,
        "legend": {
         "title": {
          "text": "Policy"
         },
         "tracegroupgap": 0
        },
        "margin": {
         "t": 60
        },
        "template": {
         "data": {
          "bar": [
           {
            "error_x": {
             "color": "#2a3f5f"
            },
            "error_y": {
             "color": "#2a3f5f"
            },
            "marker": {
             "line": {
              "color": "#E5ECF6",
              "width": 0.5
             },
             "pattern": {
              "fillmode": "overlay",
              "size": 10,
              "solidity": 0.2
             }
            },
            "type": "bar"
           }
          ],
          "barpolar": [
           {
            "marker": {
             "line": {
              "color": "#E5ECF6",
              "width": 0.5
             },
             "pattern": {
              "fillmode": "overlay",
              "size": 10,
              "solidity": 0.2
             }
            },
            "type": "barpolar"
           }
          ],
          "carpet": [
           {
            "aaxis": {
             "endlinecolor": "#2a3f5f",
             "gridcolor": "white",
             "linecolor": "white",
             "minorgridcolor": "white",
             "startlinecolor": "#2a3f5f"
            },
            "baxis": {
             "endlinecolor": "#2a3f5f",
             "gridcolor": "white",
             "linecolor": "white",
             "minorgridcolor": "white",
             "startlinecolor": "#2a3f5f"
            },
            "type": "carpet"
           }
          ],
          "choropleth": [
           {
            "colorbar": {
             "outlinewidth": 0,
             "ticks": ""
            },
            "type": "choropleth"
           }
          ],
          "contour": [
           {
            "colorbar": {
             "outlinewidth": 0,
             "ticks": ""
            },
            "colorscale": [
             [
              0,
              "#0d0887"
             ],
             [
              0.1111111111111111,
              "#46039f"
             ],
             [
              0.2222222222222222,
              "#7201a8"
             ],
             [
              0.3333333333333333,
              "#9c179e"
             ],
             [
              0.4444444444444444,
              "#bd3786"
             ],
             [
              0.5555555555555556,
              "#d8576b"
             ],
             [
              0.6666666666666666,
              "#ed7953"
             ],
             [
              0.7777777777777778,
              "#fb9f3a"
             ],
             [
              0.8888888888888888,
              "#fdca26"
             ],
             [
              1,
              "#f0f921"
             ]
            ],
            "type": "contour"
           }
          ],
          "contourcarpet": [
           {
            "colorbar": {
             "outlinewidth": 0,
             "ticks": ""
            },
            "type": "contourcarpet"
           }
          ],
          "heatmap": [
           {
            "colorbar": {
             "outlinewidth": 0,
             "ticks": ""
            },
            "colorscale": [
             [
              0,
              "#0d0887"
             ],
             [
              0.1111111111111111,
              "#46039f"
             ],
             [
              0.2222222222222222,
              "#7201a8"
             ],
             [
              0.3333333333333333,
              "#9c179e"
             ],
             [
              0.4444444444444444,
              "#bd3786"
             ],
             [
              0.5555555555555556,
              "#d8576b"
             ],
             [
              0.6666666666666666,
              "#ed7953"
             ],
             [
              0.7777777777777778,
              "#fb9f3a"
             ],
             [
              0.8888888888888888,
              "#fdca26"
             ],
             [
              1,
              "#f0f921"
             ]
            ],
            "type": "heatmap"
           }
          ],
          "histogram": [
           {
            "marker": {
             "pattern": {
              "fillmode": "overlay",
              "size": 10,
              "solidity": 0.2
             }
            },
            "type": "histogram"
           }
          ],
          "histogram2d": [
           {
            "colorbar": {
             "outlinewidth": 0,
             "ticks": ""
            },
            "colorscale": [
             [
              0,
              "#0d0887"
             ],
             [
              0.1111111111111111,
              "#46039f"
             ],
             [
              0.2222222222222222,
              "#7201a8"
             ],
             [
              0.3333333333333333,
              "#9c179e"
             ],
             [
              0.4444444444444444,
              "#bd3786"
             ],
             [
              0.5555555555555556,
              "#d8576b"
             ],
             [
              0.6666666666666666,
              "#ed7953"
             ],
             [
              0.7777777777777778,
              "#fb9f3a"
             ],
             [
              0.8888888888888888,
              "#fdca26"
             ],
             [
              1,
              "#f0f921"
             ]
            ],
            "type": "histogram2d"
           }
          ],
          "histogram2dcontour": [
           {
            "colorbar": {
             "outlinewidth": 0,
             "ticks": ""
            },
            "colorscale": [
             [
              0,
              "#0d0887"
             ],
             [
              0.1111111111111111,
              "#46039f"
             ],
             [
              0.2222222222222222,
              "#7201a8"
             ],
             [
              0.3333333333333333,
              "#9c179e"
             ],
             [
              0.4444444444444444,
              "#bd3786"
             ],
             [
              0.5555555555555556,
              "#d8576b"
             ],
             [
              0.6666666666666666,
              "#ed7953"
             ],
             [
              0.7777777777777778,
              "#fb9f3a"
             ],
             [
              0.8888888888888888,
              "#fdca26"
             ],
             [
              1,
              "#f0f921"
             ]
            ],
            "type": "histogram2dcontour"
           }
          ],
          "mesh3d": [
           {
            "colorbar": {
             "outlinewidth": 0,
             "ticks": ""
            },
            "type": "mesh3d"
           }
          ],
          "parcoords": [
           {
            "line": {
             "colorbar": {
              "outlinewidth": 0,
              "ticks": ""
             }
            },
            "type": "parcoords"
           }
          ],
          "pie": [
           {
            "automargin": true,
            "type": "pie"
           }
          ],
          "scatter": [
           {
            "fillpattern": {
             "fillmode": "overlay",
             "size": 10,
             "solidity": 0.2
            },
            "type": "scatter"
           }
          ],
          "scatter3d": [
           {
            "line": {
             "colorbar": {
              "outlinewidth": 0,
              "ticks": ""
             }
            },
            "marker": {
             "colorbar": {
              "outlinewidth": 0,
              "ticks": ""
             }
            },
            "type": "scatter3d"
           }
          ],
          "scattercarpet": [
           {
            "marker": {
             "colorbar": {
              "outlinewidth": 0,
              "ticks": ""
             }
            },
            "type": "scattercarpet"
           }
          ],
          "scattergeo": [
           {
            "marker": {
             "colorbar": {
              "outlinewidth": 0,
              "ticks": ""
             }
            },
            "type": "scattergeo"
           }
          ],
          "scattergl": [
           {
            "marker": {
             "colorbar": {
              "outlinewidth": 0,
              "ticks": ""
             }
            },
            "type": "scattergl"
           }
          ],
          "scattermap": [
           {
            "marker": {
             "colorbar": {
              "outlinewidth": 0,
              "ticks": ""
             }
            },
            "type": "scattermap"
           }
          ],
          "scattermapbox": [
           {
            "marker": {
             "colorbar": {
              "outlinewidth": 0,
              "ticks": ""
             }
            },
            "type": "scattermapbox"
           }
          ],
          "scatterpolar": [
           {
            "marker": {
             "colorbar": {
              "outlinewidth": 0,
              "ticks": ""
             }
            },
            "type": "scatterpolar"
           }
          ],
          "scatterpolargl": [
           {
            "marker": {
             "colorbar": {
              "outlinewidth": 0,
              "ticks": ""
             }
            },
            "type": "scatterpolargl"
           }
          ],
          "scatterternary": [
           {
            "marker": {
             "colorbar": {
              "outlinewidth": 0,
              "ticks": ""
             }
            },
            "type": "scatterternary"
           }
          ],
          "surface": [
           {
            "colorbar": {
             "outlinewidth": 0,
             "ticks": ""
            },
            "colorscale": [
             [
              0,
              "#0d0887"
             ],
             [
              0.1111111111111111,
              "#46039f"
             ],
             [
              0.2222222222222222,
              "#7201a8"
             ],
             [
              0.3333333333333333,
              "#9c179e"
             ],
             [
              0.4444444444444444,
              "#bd3786"
             ],
             [
              0.5555555555555556,
              "#d8576b"
             ],
             [
              0.6666666666666666,
              "#ed7953"
             ],
             [
              0.7777777777777778,
              "#fb9f3a"
             ],
             [
              0.8888888888888888,
              "#fdca26"
             ],
             [
              1,
              "#f0f921"
             ]
            ],
            "type": "surface"
           }
          ],
          "table": [
           {
            "cells": {
             "fill": {
              "color": "#EBF0F8"
             },
             "line": {
              "color": "white"
             }
            },
            "header": {
             "fill": {
              "color": "#C8D4E3"
             },
             "line": {
              "color": "white"
             }
            },
            "type": "table"
           }
          ]
         },
         "layout": {
          "annotationdefaults": {
           "arrowcolor": "#2a3f5f",
           "arrowhead": 0,
           "arrowwidth": 1
          },
          "autotypenumbers": "strict",
          "coloraxis": {
           "colorbar": {
            "outlinewidth": 0,
            "ticks": ""
           }
          },
          "colorscale": {
           "diverging": [
            [
             0,
             "#8e0152"
            ],
            [
             0.1,
             "#c51b7d"
            ],
            [
             0.2,
             "#de77ae"
            ],
            [
             0.3,
             "#f1b6da"
            ],
            [
             0.4,
             "#fde0ef"
            ],
            [
             0.5,
             "#f7f7f7"
            ],
            [
             0.6,
             "#e6f5d0"
            ],
            [
             0.7,
             "#b8e186"
            ],
            [
             0.8,
             "#7fbc41"
            ],
            [
             0.9,
             "#4d9221"
            ],
            [
             1,
             "#276419"
            ]
           ],
           "sequential": [
            [
             0,
             "#0d0887"
            ],
            [
             0.1111111111111111,
             "#46039f"
            ],
            [
             0.2222222222222222,
             "#7201a8"
            ],
            [
             0.3333333333333333,
             "#9c179e"
            ],
            [
             0.4444444444444444,
             "#bd3786"
            ],
            [
             0.5555555555555556,
             "#d8576b"
            ],
            [
             0.6666666666666666,
             "#ed7953"
            ],
            [
             0.7777777777777778,
             "#fb9f3a"
            ],
            [
             0.8888888888888888,
             "#fdca26"
            ],
            [
             1,
             "#f0f921"
            ]
           ],
           "sequentialminus": [
            [
             0,
             "#0d0887"
            ],
            [
             0.1111111111111111,
             "#46039f"
            ],
            [
             0.2222222222222222,
             "#7201a8"
            ],
            [
             0.3333333333333333,
             "#9c179e"
            ],
            [
             0.4444444444444444,
             "#bd3786"
            ],
            [
             0.5555555555555556,
             "#d8576b"
            ],
            [
             0.6666666666666666,
             "#ed7953"
            ],
            [
             0.7777777777777778,
             "#fb9f3a"
            ],
            [
             0.8888888888888888,
             "#fdca26"
            ],
            [
             1,
             "#f0f921"
            ]
           ]
          },
          "colorway": [
           "#636efa",
           "#EF553B",
           "#00cc96",
           "#ab63fa",
           "#FFA15A",
           "#19d3f3",
           "#FF6692",
           "#B6E880",
           "#FF97FF",
           "#FECB52"
          ],
          "font": {
           "color": "#2a3f5f"
          },
          "geo": {
           "bgcolor": "white",
           "lakecolor": "white",
           "landcolor": "#E5ECF6",
           "showlakes": true,
           "showland": true,
           "subunitcolor": "white"
          },
          "hoverlabel": {
           "align": "left"
          },
          "hovermode": "closest",
          "mapbox": {
           "style": "light"
          },
          "paper_bgcolor": "white",
          "plot_bgcolor": "#E5ECF6",
          "polar": {
           "angularaxis": {
            "gridcolor": "white",
            "linecolor": "white",
            "ticks": ""
           },
           "bgcolor": "#E5ECF6",
           "radialaxis": {
            "gridcolor": "white",
            "linecolor": "white",
            "ticks": ""
           }
          },
          "scene": {
           "xaxis": {
            "backgroundcolor": "#E5ECF6",
            "gridcolor": "white",
            "gridwidth": 2,
            "linecolor": "white",
            "showbackground": true,
            "ticks": "",
            "zerolinecolor": "white"
           },
           "yaxis": {
            "backgroundcolor": "#E5ECF6",
            "gridcolor": "white",
            "gridwidth": 2,
            "linecolor": "white",
            "showbackground": true,
            "ticks": "",
            "zerolinecolor": "white"
           },
           "zaxis": {
            "backgroundcolor": "#E5ECF6",
            "gridcolor": "white",
            "gridwidth": 2,
            "linecolor": "white",
            "showbackground": true,
            "ticks": "",
            "zerolinecolor": "white"
           }
          },
          "shapedefaults": {
           "line": {
            "color": "#2a3f5f"
           }
          },
          "ternary": {
           "aaxis": {
            "gridcolor": "white",
            "linecolor": "white",
            "ticks": ""
           },
           "baxis": {
            "gridcolor": "white",
            "linecolor": "white",
            "ticks": ""
           },
           "bgcolor": "#E5ECF6",
           "caxis": {
            "gridcolor": "white",
            "linecolor": "white",
            "ticks": ""
           }
          },
          "title": {
           "x": 0.05
          },
          "xaxis": {
           "automargin": true,
           "gridcolor": "white",
           "linecolor": "white",
           "ticks": "",
           "title": {
            "standoff": 15
           },
           "zerolinecolor": "white",
           "zerolinewidth": 2
          },
          "yaxis": {
           "automargin": true,
           "gridcolor": "white",
           "linecolor": "white",
           "ticks": "",
           "title": {
            "standoff": 15
           },
           "zerolinecolor": "white",
           "zerolinewidth": 2
          }
         }
        },
        "xaxis": {
         "anchor": "y",
         "domain": [
          0,
          1
         ],
         "title": {
          "text": "Asset Type"
         }
        },
        "yaxis": {
         "anchor": "x",
         "domain": [
          0,
          1
         ],
         "title": {
          "text": "sum of Marginal Effective Tax Rate"
         }
        }
       }
      }
     },
     "metadata": {},
     "output_type": "display_data"
    }
   ],
   "source": [
    "# Other results\n",
    "fig3 = px.histogram(\n",
    "    df[\n",
    "        (df[\"output_var\"]==\"metr\") &\n",
    "        (df['Policy'].isin([\n",
    "            \"Current Law\",\n",
    "            \"R&D tax credit\"\n",
    "        ]))\n",
    "    ], x=\"asset_type\", y=\"value\", color='Policy', barmode='group',\n",
    "    labels={'asset_type':'Asset Type', 'value': 'Marginal Effective Tax Rate'},\n",
    "    height=400)\n",
    "fig3.show()"
   ]
  },
  {
   "cell_type": "code",
   "execution_count": 23,
   "metadata": {
    "colab": {
     "base_uri": "https://localhost:8080/"
    },
    "id": "j9TO10LbryyS",
    "outputId": "6250b37c-da56-4e48-9467-617c4431cf73"
   },
   "outputs": [
    {
     "name": "stdout",
     "output_type": "stream",
     "text": [
      "Machines: rho =  0.06036801500031139 , metr =  0.006096191837838147  and eatr =  0.2877365642884193\n"
     ]
    }
   ],
   "source": [
    "# compute example results for equipment\n",
    "r = ccc.paramfunctions.calc_r(\n",
    "        u_f + u_s - u_f * u_s, nominal_int_rate, inflation_rate,\n",
    "        nominal_int_rate, fraction_financed_w_debt, int_haircut, E, 0.0)\n",
    "r_prime = ccc.paramfunctions.calc_r_prime(\n",
    "    nominal_int_rate, inflation_rate, fraction_financed_w_debt, E)\n",
    "z_f = ccc.calcfunctions.dbsl(5, 2, 0.8, r)  # 5 year asset, double declining balance, 80% bonus\n",
    "z_s = ccc.calcfunctions.dbsl(5, 2, 0.0, r)  # 5 year asset, double declining balance, no bonus\n",
    "rho = eq_coc_state(\n",
    "        depreciation_rates['machines'], z_f, z_s, franchise_tax_rate,\n",
    "        u_f, u_s, tau_GR, inv_tax_credit_f[\"machines\"], inflation_rate, r)\n",
    "metr = ccc.calcfunctions.eq_metr(rho, r_prime, inflation_rate)\n",
    "eatr = ccc.calcfunctions.eq_eatr(rho, metr, profit_rate, u_f + u_f - u_f * u_s)\n",
    "print('Machines: rho = ', rho, ', metr = ', metr, ' and eatr = ', eatr)"
   ]
  },
  {
   "cell_type": "code",
   "execution_count": 24,
   "metadata": {
    "colab": {
     "base_uri": "https://localhost:8080/"
    },
    "id": "A1PPzapJwHqU",
    "outputId": "c7123b69-c781-4fc9-da51-42b5b039e6f2"
   },
   "outputs": [
    {
     "name": "stdout",
     "output_type": "stream",
     "text": [
      "Machines: rho =  0.10320085443037971 , metr =  0.4186094647067426  and eatr =  0.4142005227056961\n"
     ]
    }
   ],
   "source": [
    "# compare to federal\n",
    "r = ccc.paramfunctions.calc_r(\n",
    "        u_f + u_s - u_f * u_s, nominal_int_rate, inflation_rate,\n",
    "        nominal_int_rate, fraction_financed_w_debt, int_haircut, E, 0.0)\n",
    "r_prime = ccc.paramfunctions.calc_r_prime(\n",
    "    nominal_int_rate, inflation_rate, fraction_financed_w_debt, E)\n",
    "z_f = ccc.calcfunctions.dbsl(5, 2, 0.8, r)  # 5 year asset, double declining balance, 80% bonus\n",
    "psi_f = 0.5\n",
    "nu_f = 0.05\n",
    "rho = ccc.calcfunctions.eq_coc(\n",
    "    depreciation_rates['machines'], z_f, 0.0, u_f, 0.0, inv_tax_credit_f[\"machines\"], psi_f,\n",
    "    nu_f, inflation_rate, r\n",
    ")\n",
    "metr = ccc.calcfunctions.eq_metr(rho, r_prime, inflation_rate)\n",
    "eatr = ccc.calcfunctions.eq_eatr(rho, metr, profit_rate, u_f + u_f - u_f * u_s)\n",
    "print('Machines: rho = ', rho, ', metr = ', metr, ' and eatr = ', eatr)"
   ]
  },
  {
   "cell_type": "code",
   "execution_count": 25,
   "metadata": {},
   "outputs": [
    {
     "data": {
      "application/vnd.plotly.v1+json": {
       "config": {
        "plotlyServerURL": "https://plot.ly"
       },
       "data": [
        {
         "hovertemplate": "Policy=%{x}<br>Average Effective Tax Rate=%{y}<extra></extra>",
         "legendgroup": "Current Law",
         "marker": {
          "color": "#636efa",
          "pattern": {
           "shape": ""
          }
         },
         "name": "Current Law",
         "orientation": "v",
         "showlegend": true,
         "textposition": "auto",
         "type": "bar",
         "x": [
          "Current Law"
         ],
         "xaxis": "x",
         "y": {
          "bdata": "3WgsYCB+yT8=",
          "dtype": "f8"
         },
         "yaxis": "y"
        },
        {
         "hovertemplate": "Policy=%{x}<br>Average Effective Tax Rate=%{y}<extra></extra>",
         "legendgroup": "R&D tax credit 2026",
         "marker": {
          "color": "#EF553B",
          "pattern": {
           "shape": ""
          }
         },
         "name": "R&D tax credit 2026",
         "orientation": "v",
         "showlegend": true,
         "textposition": "auto",
         "type": "bar",
         "x": [
          "R&D tax credit 2026"
         ],
         "xaxis": "x",
         "y": {
          "bdata": "5Im/4VU/yD8=",
          "dtype": "f8"
         },
         "yaxis": "y"
        },
        {
         "hovertemplate": "Policy=%{x}<br>Average Effective Tax Rate=%{y}<extra></extra>",
         "legendgroup": "R&D tax credit 2027",
         "marker": {
          "color": "#00cc96",
          "pattern": {
           "shape": ""
          }
         },
         "name": "R&D tax credit 2027",
         "orientation": "v",
         "showlegend": true,
         "textposition": "auto",
         "type": "bar",
         "x": [
          "R&D tax credit 2027"
         ],
         "xaxis": "x",
         "y": {
          "bdata": "iSk5YZmpyD8=",
          "dtype": "f8"
         },
         "yaxis": "y"
        }
       ],
       "layout": {
        "barmode": "relative",
        "height": 400,
        "legend": {
         "title": {
          "text": "Policy"
         },
         "tracegroupgap": 0
        },
        "margin": {
         "t": 60
        },
        "template": {
         "data": {
          "bar": [
           {
            "error_x": {
             "color": "#2a3f5f"
            },
            "error_y": {
             "color": "#2a3f5f"
            },
            "marker": {
             "line": {
              "color": "#E5ECF6",
              "width": 0.5
             },
             "pattern": {
              "fillmode": "overlay",
              "size": 10,
              "solidity": 0.2
             }
            },
            "type": "bar"
           }
          ],
          "barpolar": [
           {
            "marker": {
             "line": {
              "color": "#E5ECF6",
              "width": 0.5
             },
             "pattern": {
              "fillmode": "overlay",
              "size": 10,
              "solidity": 0.2
             }
            },
            "type": "barpolar"
           }
          ],
          "carpet": [
           {
            "aaxis": {
             "endlinecolor": "#2a3f5f",
             "gridcolor": "white",
             "linecolor": "white",
             "minorgridcolor": "white",
             "startlinecolor": "#2a3f5f"
            },
            "baxis": {
             "endlinecolor": "#2a3f5f",
             "gridcolor": "white",
             "linecolor": "white",
             "minorgridcolor": "white",
             "startlinecolor": "#2a3f5f"
            },
            "type": "carpet"
           }
          ],
          "choropleth": [
           {
            "colorbar": {
             "outlinewidth": 0,
             "ticks": ""
            },
            "type": "choropleth"
           }
          ],
          "contour": [
           {
            "colorbar": {
             "outlinewidth": 0,
             "ticks": ""
            },
            "colorscale": [
             [
              0,
              "#0d0887"
             ],
             [
              0.1111111111111111,
              "#46039f"
             ],
             [
              0.2222222222222222,
              "#7201a8"
             ],
             [
              0.3333333333333333,
              "#9c179e"
             ],
             [
              0.4444444444444444,
              "#bd3786"
             ],
             [
              0.5555555555555556,
              "#d8576b"
             ],
             [
              0.6666666666666666,
              "#ed7953"
             ],
             [
              0.7777777777777778,
              "#fb9f3a"
             ],
             [
              0.8888888888888888,
              "#fdca26"
             ],
             [
              1,
              "#f0f921"
             ]
            ],
            "type": "contour"
           }
          ],
          "contourcarpet": [
           {
            "colorbar": {
             "outlinewidth": 0,
             "ticks": ""
            },
            "type": "contourcarpet"
           }
          ],
          "heatmap": [
           {
            "colorbar": {
             "outlinewidth": 0,
             "ticks": ""
            },
            "colorscale": [
             [
              0,
              "#0d0887"
             ],
             [
              0.1111111111111111,
              "#46039f"
             ],
             [
              0.2222222222222222,
              "#7201a8"
             ],
             [
              0.3333333333333333,
              "#9c179e"
             ],
             [
              0.4444444444444444,
              "#bd3786"
             ],
             [
              0.5555555555555556,
              "#d8576b"
             ],
             [
              0.6666666666666666,
              "#ed7953"
             ],
             [
              0.7777777777777778,
              "#fb9f3a"
             ],
             [
              0.8888888888888888,
              "#fdca26"
             ],
             [
              1,
              "#f0f921"
             ]
            ],
            "type": "heatmap"
           }
          ],
          "histogram": [
           {
            "marker": {
             "pattern": {
              "fillmode": "overlay",
              "size": 10,
              "solidity": 0.2
             }
            },
            "type": "histogram"
           }
          ],
          "histogram2d": [
           {
            "colorbar": {
             "outlinewidth": 0,
             "ticks": ""
            },
            "colorscale": [
             [
              0,
              "#0d0887"
             ],
             [
              0.1111111111111111,
              "#46039f"
             ],
             [
              0.2222222222222222,
              "#7201a8"
             ],
             [
              0.3333333333333333,
              "#9c179e"
             ],
             [
              0.4444444444444444,
              "#bd3786"
             ],
             [
              0.5555555555555556,
              "#d8576b"
             ],
             [
              0.6666666666666666,
              "#ed7953"
             ],
             [
              0.7777777777777778,
              "#fb9f3a"
             ],
             [
              0.8888888888888888,
              "#fdca26"
             ],
             [
              1,
              "#f0f921"
             ]
            ],
            "type": "histogram2d"
           }
          ],
          "histogram2dcontour": [
           {
            "colorbar": {
             "outlinewidth": 0,
             "ticks": ""
            },
            "colorscale": [
             [
              0,
              "#0d0887"
             ],
             [
              0.1111111111111111,
              "#46039f"
             ],
             [
              0.2222222222222222,
              "#7201a8"
             ],
             [
              0.3333333333333333,
              "#9c179e"
             ],
             [
              0.4444444444444444,
              "#bd3786"
             ],
             [
              0.5555555555555556,
              "#d8576b"
             ],
             [
              0.6666666666666666,
              "#ed7953"
             ],
             [
              0.7777777777777778,
              "#fb9f3a"
             ],
             [
              0.8888888888888888,
              "#fdca26"
             ],
             [
              1,
              "#f0f921"
             ]
            ],
            "type": "histogram2dcontour"
           }
          ],
          "mesh3d": [
           {
            "colorbar": {
             "outlinewidth": 0,
             "ticks": ""
            },
            "type": "mesh3d"
           }
          ],
          "parcoords": [
           {
            "line": {
             "colorbar": {
              "outlinewidth": 0,
              "ticks": ""
             }
            },
            "type": "parcoords"
           }
          ],
          "pie": [
           {
            "automargin": true,
            "type": "pie"
           }
          ],
          "scatter": [
           {
            "fillpattern": {
             "fillmode": "overlay",
             "size": 10,
             "solidity": 0.2
            },
            "type": "scatter"
           }
          ],
          "scatter3d": [
           {
            "line": {
             "colorbar": {
              "outlinewidth": 0,
              "ticks": ""
             }
            },
            "marker": {
             "colorbar": {
              "outlinewidth": 0,
              "ticks": ""
             }
            },
            "type": "scatter3d"
           }
          ],
          "scattercarpet": [
           {
            "marker": {
             "colorbar": {
              "outlinewidth": 0,
              "ticks": ""
             }
            },
            "type": "scattercarpet"
           }
          ],
          "scattergeo": [
           {
            "marker": {
             "colorbar": {
              "outlinewidth": 0,
              "ticks": ""
             }
            },
            "type": "scattergeo"
           }
          ],
          "scattergl": [
           {
            "marker": {
             "colorbar": {
              "outlinewidth": 0,
              "ticks": ""
             }
            },
            "type": "scattergl"
           }
          ],
          "scattermap": [
           {
            "marker": {
             "colorbar": {
              "outlinewidth": 0,
              "ticks": ""
             }
            },
            "type": "scattermap"
           }
          ],
          "scattermapbox": [
           {
            "marker": {
             "colorbar": {
              "outlinewidth": 0,
              "ticks": ""
             }
            },
            "type": "scattermapbox"
           }
          ],
          "scatterpolar": [
           {
            "marker": {
             "colorbar": {
              "outlinewidth": 0,
              "ticks": ""
             }
            },
            "type": "scatterpolar"
           }
          ],
          "scatterpolargl": [
           {
            "marker": {
             "colorbar": {
              "outlinewidth": 0,
              "ticks": ""
             }
            },
            "type": "scatterpolargl"
           }
          ],
          "scatterternary": [
           {
            "marker": {
             "colorbar": {
              "outlinewidth": 0,
              "ticks": ""
             }
            },
            "type": "scatterternary"
           }
          ],
          "surface": [
           {
            "colorbar": {
             "outlinewidth": 0,
             "ticks": ""
            },
            "colorscale": [
             [
              0,
              "#0d0887"
             ],
             [
              0.1111111111111111,
              "#46039f"
             ],
             [
              0.2222222222222222,
              "#7201a8"
             ],
             [
              0.3333333333333333,
              "#9c179e"
             ],
             [
              0.4444444444444444,
              "#bd3786"
             ],
             [
              0.5555555555555556,
              "#d8576b"
             ],
             [
              0.6666666666666666,
              "#ed7953"
             ],
             [
              0.7777777777777778,
              "#fb9f3a"
             ],
             [
              0.8888888888888888,
              "#fdca26"
             ],
             [
              1,
              "#f0f921"
             ]
            ],
            "type": "surface"
           }
          ],
          "table": [
           {
            "cells": {
             "fill": {
              "color": "#EBF0F8"
             },
             "line": {
              "color": "white"
             }
            },
            "header": {
             "fill": {
              "color": "#C8D4E3"
             },
             "line": {
              "color": "white"
             }
            },
            "type": "table"
           }
          ]
         },
         "layout": {
          "annotationdefaults": {
           "arrowcolor": "#2a3f5f",
           "arrowhead": 0,
           "arrowwidth": 1
          },
          "autotypenumbers": "strict",
          "coloraxis": {
           "colorbar": {
            "outlinewidth": 0,
            "ticks": ""
           }
          },
          "colorscale": {
           "diverging": [
            [
             0,
             "#8e0152"
            ],
            [
             0.1,
             "#c51b7d"
            ],
            [
             0.2,
             "#de77ae"
            ],
            [
             0.3,
             "#f1b6da"
            ],
            [
             0.4,
             "#fde0ef"
            ],
            [
             0.5,
             "#f7f7f7"
            ],
            [
             0.6,
             "#e6f5d0"
            ],
            [
             0.7,
             "#b8e186"
            ],
            [
             0.8,
             "#7fbc41"
            ],
            [
             0.9,
             "#4d9221"
            ],
            [
             1,
             "#276419"
            ]
           ],
           "sequential": [
            [
             0,
             "#0d0887"
            ],
            [
             0.1111111111111111,
             "#46039f"
            ],
            [
             0.2222222222222222,
             "#7201a8"
            ],
            [
             0.3333333333333333,
             "#9c179e"
            ],
            [
             0.4444444444444444,
             "#bd3786"
            ],
            [
             0.5555555555555556,
             "#d8576b"
            ],
            [
             0.6666666666666666,
             "#ed7953"
            ],
            [
             0.7777777777777778,
             "#fb9f3a"
            ],
            [
             0.8888888888888888,
             "#fdca26"
            ],
            [
             1,
             "#f0f921"
            ]
           ],
           "sequentialminus": [
            [
             0,
             "#0d0887"
            ],
            [
             0.1111111111111111,
             "#46039f"
            ],
            [
             0.2222222222222222,
             "#7201a8"
            ],
            [
             0.3333333333333333,
             "#9c179e"
            ],
            [
             0.4444444444444444,
             "#bd3786"
            ],
            [
             0.5555555555555556,
             "#d8576b"
            ],
            [
             0.6666666666666666,
             "#ed7953"
            ],
            [
             0.7777777777777778,
             "#fb9f3a"
            ],
            [
             0.8888888888888888,
             "#fdca26"
            ],
            [
             1,
             "#f0f921"
            ]
           ]
          },
          "colorway": [
           "#636efa",
           "#EF553B",
           "#00cc96",
           "#ab63fa",
           "#FFA15A",
           "#19d3f3",
           "#FF6692",
           "#B6E880",
           "#FF97FF",
           "#FECB52"
          ],
          "font": {
           "color": "#2a3f5f"
          },
          "geo": {
           "bgcolor": "white",
           "lakecolor": "white",
           "landcolor": "#E5ECF6",
           "showlakes": true,
           "showland": true,
           "subunitcolor": "white"
          },
          "hoverlabel": {
           "align": "left"
          },
          "hovermode": "closest",
          "mapbox": {
           "style": "light"
          },
          "paper_bgcolor": "white",
          "plot_bgcolor": "#E5ECF6",
          "polar": {
           "angularaxis": {
            "gridcolor": "white",
            "linecolor": "white",
            "ticks": ""
           },
           "bgcolor": "#E5ECF6",
           "radialaxis": {
            "gridcolor": "white",
            "linecolor": "white",
            "ticks": ""
           }
          },
          "scene": {
           "xaxis": {
            "backgroundcolor": "#E5ECF6",
            "gridcolor": "white",
            "gridwidth": 2,
            "linecolor": "white",
            "showbackground": true,
            "ticks": "",
            "zerolinecolor": "white"
           },
           "yaxis": {
            "backgroundcolor": "#E5ECF6",
            "gridcolor": "white",
            "gridwidth": 2,
            "linecolor": "white",
            "showbackground": true,
            "ticks": "",
            "zerolinecolor": "white"
           },
           "zaxis": {
            "backgroundcolor": "#E5ECF6",
            "gridcolor": "white",
            "gridwidth": 2,
            "linecolor": "white",
            "showbackground": true,
            "ticks": "",
            "zerolinecolor": "white"
           }
          },
          "shapedefaults": {
           "line": {
            "color": "#2a3f5f"
           }
          },
          "ternary": {
           "aaxis": {
            "gridcolor": "white",
            "linecolor": "white",
            "ticks": ""
           },
           "baxis": {
            "gridcolor": "white",
            "linecolor": "white",
            "ticks": ""
           },
           "bgcolor": "#E5ECF6",
           "caxis": {
            "gridcolor": "white",
            "linecolor": "white",
            "ticks": ""
           }
          },
          "title": {
           "x": 0.05
          },
          "xaxis": {
           "automargin": true,
           "gridcolor": "white",
           "linecolor": "white",
           "ticks": "",
           "title": {
            "standoff": 15
           },
           "zerolinecolor": "white",
           "zerolinewidth": 2
          },
          "yaxis": {
           "automargin": true,
           "gridcolor": "white",
           "linecolor": "white",
           "ticks": "",
           "title": {
            "standoff": 15
           },
           "zerolinecolor": "white",
           "zerolinewidth": 2
          }
         }
        },
        "xaxis": {
         "anchor": "y",
         "categoryarray": [
          "Current Law",
          "R&D tax credit 2026",
          "R&D tax credit 2027"
         ],
         "categoryorder": "array",
         "domain": [
          0,
          1
         ],
         "title": {
          "text": "Policy"
         }
        },
        "yaxis": {
         "anchor": "x",
         "domain": [
          0,
          1
         ],
         "title": {
          "text": "Average Effective Tax Rate"
         }
        }
       }
      }
     },
     "metadata": {},
     "output_type": "display_data"
    }
   ],
   "source": [
    "# Plot Figure 4: Effects of full R&D expensing deductibility in 2026 on\n",
    "# Business Incentives to Invest\n",
    "fig4 = px.bar(\n",
    "    df[(df[\"output_var\"]==\"eatr\") & (df[\"asset_type\"]==\"machines\")],\n",
    "    x=\"Policy\", y=\"value\", color='Policy',\n",
    "    labels={'value':'Average Effective Tax Rate'}, height=400\n",
    ")\n",
    "fig4.show()"
   ]
  },
  {
   "cell_type": "markdown",
   "metadata": {},
   "source": [
    "## 2. Calculate revenue loss in 2026\n",
    "To calculate the revenue loss in 2026, which includes the retroactive expensing of R&D costs. We use the same 50% decay rate we used to calculate the investment tax credit increase in 2026. We start with the JCT estimate of a cost of $28.0 billion in 2026 ($25.5B in 2023 dollars). Then we assume that 50% of those business filers claim the credit in 2025, and 50% of those claim the credit in 2024, etc."
   ]
  },
  {
   "cell_type": "code",
   "execution_count": 26,
   "metadata": {},
   "outputs": [
    {
     "name": "stdout",
     "output_type": "stream",
     "text": [
      "Cost in 2026: 54.25\n"
     ]
    }
   ],
   "source": [
    "cost_in_2027 = 28.0  # annual cost in billions in 2027 and beyond\n",
    "adherence_rate = 0.5\n",
    "\n",
    "cost_in_2026 = (\n",
    "    cost_in_2027 + (cost_in_2027 * adherence_rate) + (cost_in_2027 * (adherence_rate ** 2)) + (cost_in_2027 * (adherence_rate ** 3)) + (cost_in_2027 * (adherence_rate ** 4))\n",
    ")\n",
    "print(\"Cost in 2026:\", cost_in_2026)"
   ]
  },
  {
   "cell_type": "markdown",
   "metadata": {},
   "source": [
    "Get 2045 debt-to-GDP values from baseline and reform."
   ]
  },
  {
   "cell_type": "code",
   "execution_count": 27,
   "metadata": {},
   "outputs": [
    {
     "name": "stdout",
     "output_type": "stream",
     "text": [
      "Debt to GDP in 2035 under baseline: 1.2914579105653226\n",
      "Debt to GDP in 2035 under reference (retro): 1.29925625531329\n",
      "Debt to GDP in 2035 under reference (no retro): 1.298690920317988\n"
     ]
    }
   ],
   "source": [
    "tpi_vars_bas = pickle.load(\n",
    "    open(os.path.join(og_bas_dir, 'TPI', 'TPI_vars.pkl'), 'rb')\n",
    ")\n",
    "tpi_vars_retro_ref = pickle.load(\n",
    "    open(os.path.join(og_ref_retro_dir, 'TPI', 'TPI_vars.pkl'), 'rb')\n",
    ")\n",
    "tpi_vars_noretro_ref = pickle.load(\n",
    "    open(os.path.join(og_ref_noretro_dir, 'TPI', 'TPI_vars.pkl'), 'rb')\n",
    ")\n",
    "D_bas = tpi_vars_bas['D']\n",
    "Y_bas = tpi_vars_bas['Y']\n",
    "D_retro_ref = tpi_vars_retro_ref['D']\n",
    "Y_retro_ref = tpi_vars_retro_ref['Y']\n",
    "D_noretro_ref = tpi_vars_noretro_ref['D']\n",
    "Y_noretro_ref = tpi_vars_noretro_ref['Y']\n",
    "debt_to_gdp_bas = D_bas/Y_bas\n",
    "debt_to_gdp_retro_ref = D_retro_ref/Y_retro_ref\n",
    "debt_to_gdp_noretro_ref = D_noretro_ref/Y_noretro_ref\n",
    "debt_to_gdp_2045_bas = debt_to_gdp_bas[2035 - 2026]\n",
    "debt_to_gdp_2045_retro_ref = debt_to_gdp_retro_ref[2035 - 2026]\n",
    "debt_to_gdp_2045_noretro_ref = debt_to_gdp_noretro_ref[2035 - 2026]\n",
    "print(\"Debt to GDP in 2035 under baseline:\", debt_to_gdp_2045_bas)\n",
    "print(\n",
    "    \"Debt to GDP in 2035 under reference (retro):\", debt_to_gdp_2045_retro_ref\n",
    ")\n",
    "print(\n",
    "    \"Debt to GDP in 2035 under reference (no retro):\",\n",
    "    debt_to_gdp_2045_noretro_ref\n",
    ")"
   ]
  },
  {
   "cell_type": "markdown",
   "metadata": {},
   "source": [
    "## 3. Compare retro and noretro macro time series"
   ]
  },
  {
   "cell_type": "code",
   "execution_count": 28,
   "metadata": {},
   "outputs": [
    {
     "name": "stdout",
     "output_type": "stream",
     "text": [
      "Real GDP in 2026 dollars: [31.6406     32.19854473 32.76040852 33.34552546 33.95311172 34.57180201\n",
      " 35.20891192 35.85216171 36.49671785 37.13918382 37.77955962 38.41810653\n",
      " 39.05586962 39.69206508 40.32826054 40.96092884 41.59202952 42.22299955\n",
      " 42.85579849 43.49003442]\n"
     ]
    },
    {
     "data": {
      "image/png": "[encoded data removed]",
      "text/plain": [
       "<Figure size 640x480 with 1 Axes>"
      ]
     },
     "metadata": {},
     "output_type": "display_data"
    }
   ],
   "source": [
    "Y_diff_retro_minus_noretro = Y_retro_ref - Y_noretro_ref\n",
    "plt.plot(np.arange(2026, 2046), Y_diff_retro_minus_noretro[:20])\n",
    "\n",
    "# Read in real US GDP and nominal US GDP from CBO March 2025 long-term forecast\n",
    "rgdp_26_45 = np.array(\n",
    "    [\n",
    "        24.2205,\n",
    "        24.6476,\n",
    "        25.0777,\n",
    "        25.5256,\n",
    "        25.9907,\n",
    "        26.4643,\n",
    "        26.9520,\n",
    "        27.4444,\n",
    "        27.9378,\n",
    "        28.4296,\n",
    "        28.9198,\n",
    "        29.4086,\n",
    "        29.8968,\n",
    "        30.3838,\n",
    "        30.8708,\n",
    "        31.3551,\n",
    "        31.8382,\n",
    "        32.3212,\n",
    "        32.8056,\n",
    "        33.2911,\n",
    "    ]\n",
    ")\n",
    "\n",
    "ngdp_26_45 = np.array(\n",
    "    [\n",
    "        31.6406,\n",
    "        32.8410,\n",
    "        34.0784,\n",
    "        35.3784,\n",
    "        36.7388,\n",
    "        38.1513,\n",
    "        39.6267,\n",
    "        41.1542,\n",
    "        42.7276,\n",
    "        44.3454,\n",
    "        46.0104,\n",
    "        47.7271,\n",
    "        49.4995,\n",
    "        51.3250,\n",
    "        53.2052,\n",
    "        55.1358,\n",
    "        57.1209,\n",
    "        59.1638,\n",
    "        61.2690,\n",
    "        63.4381,\n",
    "    ]\n",
    ")\n",
    "\n",
    "r_gdp_26_45_2026dollars = rgdp_26_45 * (ngdp_26_45[0] / rgdp_26_45[0])\n",
    "print(\"Real GDP in 2026 dollars:\", r_gdp_26_45_2026dollars)"
   ]
  },
  {
   "cell_type": "code",
   "execution_count": 29,
   "metadata": {},
   "outputs": [
    {
     "name": "stdout",
     "output_type": "stream",
     "text": [
      "Pct change in GDP from 2026 to 2035 with retroactivity:\n",
      "[0.00289 0.0017  0.00181 0.00179 0.00177 0.00174 0.00171 0.00168 0.00165\n",
      " 0.00162]\n",
      "10-year change in real GDP in 2026 dollars ($B, retroactive):\n",
      "[91.6 54.6 59.4 59.8 59.9 60.  60.1 60.2 60.1 60.1]\n",
      "10-year total: 625.8\n"
     ]
    }
   ],
   "source": [
    "# Compute the dollar change in GDP from 2026 to 2035 with retroactivity\n",
    "gdp_pct_chg_retro = (Y_retro_ref[:10] - Y_bas[:10]) /  Y_bas[:10]\n",
    "print(\"Pct change in GDP from 2026 to 2035 with retroactivity:\")\n",
    "print(np.round(gdp_pct_chg_retro, 5))\n",
    "r_gdp_dol_chg_retro_26_35_2026dollars = (\n",
    "    r_gdp_26_45_2026dollars[:10] * gdp_pct_chg_retro * 1_000\n",
    ")\n",
    "print(\"10-year change in real GDP in 2026 dollars ($B, retroactive):\")\n",
    "print(np.round(r_gdp_dol_chg_retro_26_35_2026dollars, 1))\n",
    "print(\n",
    "    \"10-year total:\",\n",
    "    np.round(np.sum(r_gdp_dol_chg_retro_26_35_2026dollars), 1)\n",
    ")"
   ]
  },
  {
   "cell_type": "code",
   "execution_count": 30,
   "metadata": {},
   "outputs": [
    {
     "name": "stdout",
     "output_type": "stream",
     "text": [
      "Pct change in GDP from 2026 to 2035 without retroactivity:\n",
      "[0.00175 0.0017  0.00186 0.00184 0.0018  0.00177 0.00174 0.00171 0.00168\n",
      " 0.00165]\n",
      "10-year change in real GDP in 2026 dollars ($B, no retroactive):\n",
      "[55.4 54.7 60.9 61.2 61.3 61.3 61.3 61.4 61.3 61.2]\n",
      "10-year total: 599.9\n"
     ]
    }
   ],
   "source": [
    "# Compute the dollar change in GDP from 2026 to 2035 without retroactivity\n",
    "gdp_pct_chg_noretro = (Y_noretro_ref[:10] - Y_bas[:10]) /  Y_bas[:10]\n",
    "print(\"Pct change in GDP from 2026 to 2035 without retroactivity:\")\n",
    "print(np.round(gdp_pct_chg_noretro, 5))\n",
    "r_gdp_dol_chg_noretro_26_35_2026dollars = (\n",
    "    r_gdp_26_45_2026dollars[:10] * gdp_pct_chg_noretro * 1_000\n",
    ")\n",
    "print(\"10-year change in real GDP in 2026 dollars ($B, no retroactive):\")\n",
    "print(np.round(r_gdp_dol_chg_noretro_26_35_2026dollars, 1))\n",
    "print(\n",
    "    \"10-year total:\",\n",
    "    np.round(np.sum(r_gdp_dol_chg_noretro_26_35_2026dollars), 1)\n",
    ")"
   ]
  },
  {
   "cell_type": "code",
   "execution_count": null,
   "metadata": {},
   "outputs": [],
   "source": []
  }
 ],
 "metadata": {
  "colab": {
   "provenance": []
  },
  "kernelspec": {
   "display_name": "rdcredit-dev",
   "language": "python",
   "name": "python3"
  },
  "language_info": {
   "codemirror_mode": {
    "name": "ipython",
    "version": 3
   },
   "file_extension": ".py",
   "mimetype": "text/x-python",
   "name": "python",
   "nbconvert_exporter": "python",
   "pygments_lexer": "ipython3",
   "version": "3.12.10"
  }
 },
 "nbformat": 4,
 "nbformat_minor": 1
}
